{
 "cells": [
  {
   "cell_type": "code",
   "execution_count": 27,
   "metadata": {},
   "outputs": [
    {
     "name": "stdout",
     "output_type": "stream",
     "text": [
      "Thu Thursday 4 03 Sep September 09 20 2020 16 04 PM 14 26 122376   247 35 35 9/3/2020 4:14:26 PM 4:14:26 PM 9/3/2020\n"
     ]
    }
   ],
   "source": [
    "import locale\n",
    "locale.setlocale(locale.LC_ALL, \"en_US.UTF-8\")\n",
    "import datetime\n",
    "d=datetime.datetime.now()\n",
    "x=d.strftime('%a %A %w %d %b %B %m %y %Y %H %I %p %M %S %f %Z %z %j %U %W %c %X %x')\n",
    "print(x)"
   ]
  },
  {
   "cell_type": "code",
   "execution_count": 28,
   "metadata": {},
   "outputs": [
    {
     "name": "stdout",
     "output_type": "stream",
     "text": [
      "Thu Thursday 4 03 Sep September 09 20 2020 16 04 PM 14 26 129358   247 35 35 9/3/2020 4:14:26 PM 4:14:26 PM 9/3/2020\n"
     ]
    }
   ],
   "source": [
    " import datetime\n",
    "d=datetime.datetime.now()\n",
    "x=d.strftime('%a %A %w %d %b %B %m %y %Y %H %I %p %M %S %f %Z %z %j %U %W %c %X %x')\n",
    "print(x)"
   ]
  },
  {
   "cell_type": "code",
   "execution_count": 29,
   "metadata": {},
   "outputs": [
    {
     "data": {
      "text/plain": [
       "'09-03-2020'"
      ]
     },
     "execution_count": 29,
     "metadata": {},
     "output_type": "execute_result"
    }
   ],
   "source": [
    "d.strftime('%m'+\"-\"+\"%d\"+\"-\"+\"%Y\")"
   ]
  },
  {
   "cell_type": "code",
   "execution_count": 43,
   "metadata": {},
   "outputs": [
    {
     "name": "stdout",
     "output_type": "stream",
     "text": [
      "2020-09-03 16:15:05.343824\n"
     ]
    }
   ],
   "source": [
    "\n",
    "\n",
    "import datetime\n",
    "\n",
    "d=datetime.datetime.today()\n",
    "\n",
    "print(d)\n",
    "     "
   ]
  },
  {
   "cell_type": "code",
   "execution_count": 44,
   "metadata": {},
   "outputs": [
    {
     "name": "stdout",
     "output_type": "stream",
     "text": [
      "2020-09-06T06:27:20.704006\n"
     ]
    }
   ],
   "source": [
    "from datetime import timedelta\n",
    "\n",
    "oneWeek=timedelta(days=2,hours=14, minutes=12, seconds=15, microseconds=0)\n",
    "\n",
    "d=datetime.datetime.today()+oneWeek\n",
    "\n",
    "print(d.isoformat())"
   ]
  },
  {
   "cell_type": "code",
   "execution_count": 41,
   "metadata": {},
   "outputs": [
    {
     "data": {
      "text/plain": [
       "'06-Sep-2020-6:27:14 AM'"
      ]
     },
     "execution_count": 41,
     "metadata": {},
     "output_type": "execute_result"
    }
   ],
   "source": [
    "d.strftime('%d'+\"-\"+\"%h\"+\"-\"+\"%Y\"+\"-\"+\"%X\")"
   ]
  },
  {
   "cell_type": "code",
   "execution_count": 42,
   "metadata": {},
   "outputs": [
    {
     "data": {
      "text/plain": [
       "'9/6/2020 6:27:14 AM'"
      ]
     },
     "execution_count": 42,
     "metadata": {},
     "output_type": "execute_result"
    }
   ],
   "source": [
    "d.strftime(\"%c\" )"
   ]
  },
  {
   "cell_type": "code",
   "execution_count": null,
   "metadata": {},
   "outputs": [],
   "source": []
  }
 ],
 "metadata": {
  "kernelspec": {
   "display_name": "Python 3",
   "language": "python",
   "name": "python3"
  },
  "language_info": {
   "codemirror_mode": {
    "name": "ipython",
    "version": 3
   },
   "file_extension": ".py",
   "mimetype": "text/x-python",
   "name": "python",
   "nbconvert_exporter": "python",
   "pygments_lexer": "ipython3",
   "version": "3.7.6"
  }
 },
 "nbformat": 4,
 "nbformat_minor": 4
}
